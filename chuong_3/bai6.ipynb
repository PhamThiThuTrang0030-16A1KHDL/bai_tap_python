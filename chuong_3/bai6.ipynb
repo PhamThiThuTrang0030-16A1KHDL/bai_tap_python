{
 "cells": [
  {
   "cell_type": "code",
   "execution_count": 3,
   "metadata": {},
   "outputs": [
    {
     "name": "stdout",
     "output_type": "stream",
     "text": [
      "Câu 1:\n",
      "[[ True  True  True]\n",
      " [ True  True  True]\n",
      " [ True  True  True]]\n",
      "\n"
     ]
    }
   ],
   "source": [
    "import numpy as np\n",
    "# 1\n",
    "arr = np.full((3,3), True)\n",
    "print(f'Câu 1:\\n{arr}\\n')"
   ]
  },
  {
   "cell_type": "code",
   "execution_count": 4,
   "metadata": {},
   "outputs": [
    {
     "name": "stdout",
     "output_type": "stream",
     "text": [
      "Câu 2:\n",
      "[[2 1 0]\n",
      " [5 4 3]\n",
      " [8 7 6]]\n",
      "\n"
     ]
    }
   ],
   "source": [
    "arr_1D = np.array([0, 1, 2, 3, 4, 5, 6, 7, 8])\n",
    "arr_2D = arr_1D.reshape(3, 3)\n",
    "arr_2D[:, [0, 2]] = arr_2D[:, [2, 0]]\n",
    "print(f\"Câu 2:\\n{arr_2D}\\n\")"
   ]
  },
  {
   "cell_type": "code",
   "execution_count": 5,
   "metadata": {},
   "outputs": [
    {
     "name": "stdout",
     "output_type": "stream",
     "text": [
      "Câu 3:\n",
      "[[5 4 3]\n",
      " [2 1 0]\n",
      " [8 7 6]]\n",
      "\n"
     ]
    }
   ],
   "source": [
    "arr_2D[[0, 1], :] = arr_2D[[1, 0], :]\n",
    "print(f\"Câu 3:\\n{arr_2D}\\n\")"
   ]
  },
  {
   "cell_type": "code",
   "execution_count": 6,
   "metadata": {},
   "outputs": [
    {
     "name": "stdout",
     "output_type": "stream",
     "text": [
      "Câu 4:\n",
      "[[8 7 6]\n",
      " [2 1 0]\n",
      " [5 4 3]]\n",
      "\n"
     ]
    }
   ],
   "source": [
    "arr_2D = arr_2D[::-1]\n",
    "print(f\"Câu 4:\\n{arr_2D}\\n\")"
   ]
  },
  {
   "cell_type": "code",
   "execution_count": 7,
   "metadata": {},
   "outputs": [
    {
     "name": "stdout",
     "output_type": "stream",
     "text": [
      "Câu 5:\n",
      "[[6 7 8]\n",
      " [0 1 2]\n",
      " [3 4 5]]\n",
      "\n"
     ]
    }
   ],
   "source": [
    "arr_2D = arr_2D[:, ::-1]\n",
    "print(f\"Câu 5:\\n{arr_2D}\\n\")"
   ]
  },
  {
   "cell_type": "code",
   "execution_count": 8,
   "metadata": {},
   "outputs": [
    {
     "name": "stdout",
     "output_type": "stream",
     "text": [
      "Câu 6: Có có giá trị rỗng trong mảng.\n",
      "\n"
     ]
    }
   ],
   "source": [
    "arr_2D_null = np.array([[1, 2, 3], [np.NaN, 5, 6], [7, np.NaN, 9], [4, 5, 6]])\n",
    "has_nan = np.isnan(arr_2D_null).any()\n",
    "print(f\"Câu 6: {'Có' if has_nan else 'Không'} có giá trị rỗng trong mảng.\\n\")"
   ]
  },
  {
   "cell_type": "code",
   "execution_count": 9,
   "metadata": {},
   "outputs": [
    {
     "name": "stdout",
     "output_type": "stream",
     "text": [
      "Câu 7:\n",
      "[[1. 2. 3.]\n",
      " [0. 5. 6.]\n",
      " [7. 0. 9.]\n",
      " [4. 5. 6.]]\n",
      "\n"
     ]
    }
   ],
   "source": [
    "arr_2D_null[np.isnan(arr_2D_null)] = 0\n",
    "print(f\"Câu 7:\\n{arr_2D_null}\\n\")"
   ]
  }
 ],
 "metadata": {
  "kernelspec": {
   "display_name": "Python 3.6.8rc1 64-bit",
   "language": "python",
   "name": "python3"
  },
  "language_info": {
   "codemirror_mode": {
    "name": "ipython",
    "version": 3
   },
   "file_extension": ".py",
   "mimetype": "text/x-python",
   "name": "python",
   "nbconvert_exporter": "python",
   "pygments_lexer": "ipython3",
   "version": "3.6.8rc1"
  },
  "orig_nbformat": 4,
  "vscode": {
   "interpreter": {
    "hash": "78d7b6fb6b77b2bee0554797a3d30a2dc1f4881c74cfcbb78b805aff5a203095"
   }
  }
 },
 "nbformat": 4,
 "nbformat_minor": 2
}
