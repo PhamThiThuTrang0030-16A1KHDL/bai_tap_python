{
 "cells": [
  {
   "cell_type": "code",
   "execution_count": 3,
   "metadata": {},
   "outputs": [
    {
     "name": "stdout",
     "output_type": "stream",
     "text": [
      "arr: [0 1 2 3 4 5 6 7 8 9]\n",
      "Kiểu dữ liệu của arr: int32\n",
      "kích thước của arr: (10,)\n"
     ]
    }
   ],
   "source": [
    "import numpy as np\n",
    "arr = np.arange(10)\n",
    "print('arr:',arr)\n",
    "print('Kiểu dữ liệu của arr:',arr.dtype)\n",
    "print('kích thước của arr:',arr.shape)\n"
   ]
  },
  {
   "cell_type": "code",
   "execution_count": 5,
   "metadata": {},
   "outputs": [
    {
     "name": "stdout",
     "output_type": "stream",
     "text": [
      "arr_odd: [1 3 5 7 9]\n",
      "arr_even: [0 2 4 6 8]\n"
     ]
    }
   ],
   "source": [
    "# 2\n",
    "arr_odd = arr[arr % 2 == 1]\n",
    "arr_even = arr[arr % 2 == 0]\n",
    "print('arr_odd:',arr_odd)\n",
    "print('arr_even:',arr_even)"
   ]
  },
  {
   "cell_type": "code",
   "execution_count": 6,
   "metadata": {},
   "outputs": [
    {
     "name": "stdout",
     "output_type": "stream",
     "text": [
      "arr_update_1: [  0 100   2 100   4 100   6 100   8 100]\n"
     ]
    }
   ],
   "source": [
    "# 3\n",
    "arr_update_1 = np.where(arr % 2 == 1, 100, arr)\n",
    "print('arr_update_1:',arr_update_1)"
   ]
  }
 ],
 "metadata": {
  "kernelspec": {
   "display_name": "Python 3.6.8rc1 64-bit",
   "language": "python",
   "name": "python3"
  },
  "language_info": {
   "codemirror_mode": {
    "name": "ipython",
    "version": 3
   },
   "file_extension": ".py",
   "mimetype": "text/x-python",
   "name": "python",
   "nbconvert_exporter": "python",
   "pygments_lexer": "ipython3",
   "version": "3.6.8"
  },
  "orig_nbformat": 4,
  "vscode": {
   "interpreter": {
    "hash": "78d7b6fb6b77b2bee0554797a3d30a2dc1f4881c74cfcbb78b805aff5a203095"
   }
  }
 },
 "nbformat": 4,
 "nbformat_minor": 2
}
