{
 "cells": [
  {
   "cell_type": "code",
   "execution_count": 6,
   "metadata": {},
   "outputs": [
    {
     "name": "stdout",
     "output_type": "stream",
     "text": [
      "arr_zeros: [0. 0. 0. 0. 1. 0. 0. 0. 0. 0.]\n"
     ]
    }
   ],
   "source": [
    "import numpy as np\n",
    "arr_zero = np.zeros(10)\n",
    "arr_zero[4] = 1\n",
    "print('arr_zeros:',arr_zero)\n"
   ]
  },
  {
   "cell_type": "code",
   "execution_count": 8,
   "metadata": {},
   "outputs": [
    {
     "name": "stdout",
     "output_type": "stream",
     "text": [
      "arr_h đảo ngược: [24 23 22 21 20 19 18 17 16 15 14 13 12 11 10]\n"
     ]
    }
   ],
   "source": [
    "# 2\n",
    "arr_h = np.arange(10,25)\n",
    "print('arr_h đảo ngược:',arr_h[::-1])"
   ]
  },
  {
   "cell_type": "code",
   "execution_count": 10,
   "metadata": {},
   "outputs": [
    {
     "name": "stdout",
     "output_type": "stream",
     "text": [
      "arr_l [1 2 8 2 1 3 5]\n"
     ]
    }
   ],
   "source": [
    "# 3\n",
    "arr_k = np.array([1, 2, 0, 8, 2, 0, 1, 3, 0, 5, 0])\n",
    "arr_l = arr_k[arr_k != 0]\n",
    "print('arr_l',arr_l)"
   ]
  },
  {
   "cell_type": "code",
   "execution_count": 12,
   "metadata": {},
   "outputs": [
    {
     "name": "stdout",
     "output_type": "stream",
     "text": [
      "arr_l sau khi thêm: [ 1  2  8  2  1  3  5 10 20 10 20]\n"
     ]
    }
   ],
   "source": [
    "# 4\n",
    "arr_l = np.append(arr_l, [10, 20])\n",
    "print(\"arr_l sau khi thêm:\", arr_l)"
   ]
  },
  {
   "cell_type": "code",
   "execution_count": 14,
   "metadata": {},
   "outputs": [
    {
     "name": "stdout",
     "output_type": "stream",
     "text": [
      "arr l sau khi thêm 100: [  1   2   8   2   1 100 100   3   5  10  20  10  20]\n"
     ]
    }
   ],
   "source": [
    "# 5\n",
    "arr_l = np.insert(arr_l, 5, 100)\n",
    "print('arr l sau khi thêm 100:',arr_l)"
   ]
  },
  {
   "cell_type": "code",
   "execution_count": 15,
   "metadata": {},
   "outputs": [
    {
     "data": {
      "text/plain": [
       "array([  2,   1, 100, 100,   3,   5,  10,  20,  10,  20])"
      ]
     },
     "execution_count": 15,
     "metadata": {},
     "output_type": "execute_result"
    }
   ],
   "source": [
    "# 6\n",
    "idx_to_delete = 0,1,2\n",
    "new_arr = np.delete(arr_l,idx_to_delete)\n",
    "new_arr"
   ]
  }
 ],
 "metadata": {
  "kernelspec": {
   "display_name": "Python 3.6.8rc1 64-bit",
   "language": "python",
   "name": "python3"
  },
  "language_info": {
   "codemirror_mode": {
    "name": "ipython",
    "version": 3
   },
   "file_extension": ".py",
   "mimetype": "text/x-python",
   "name": "python",
   "nbconvert_exporter": "python",
   "pygments_lexer": "ipython3",
   "version": "3.6.8"
  },
  "orig_nbformat": 4,
  "vscode": {
   "interpreter": {
    "hash": "78d7b6fb6b77b2bee0554797a3d30a2dc1f4881c74cfcbb78b805aff5a203095"
   }
  }
 },
 "nbformat": 4,
 "nbformat_minor": 2
}
