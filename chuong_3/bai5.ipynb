{
 "cells": [
  {
   "cell_type": "code",
   "execution_count": 43,
   "metadata": {},
   "outputs": [
    {
     "name": "stdout",
     "output_type": "stream",
     "text": [
      "<class 'numpy.ndarray'>\n"
     ]
    }
   ],
   "source": [
    "import numpy as np\n",
    "with open('baseball_2D.txt') as file:\n",
    "    data = [line for line in file]\n",
    "    height = [float(line.split()[3]) for line in data]\n",
    "    weight = [float(line.split()[4]) for line in data]\n",
    "arr_height = np.array(height)\n",
    "arr_weight = np.array(weight)\n",
    "print(type(arr_height))\n",
    "\n",
    "    \n"
   ]
  },
  {
   "cell_type": "code",
   "execution_count": 22,
   "metadata": {},
   "outputs": [
    {
     "ename": "UFuncTypeError",
     "evalue": "ufunc 'multiply' did not contain a loop with signature matching types (dtype('<U4072'), dtype('<U4072')) -> dtype('<U4072')",
     "output_type": "error",
     "traceback": [
      "\u001b[1;31m---------------------------------------------------------------------------\u001b[0m",
      "\u001b[1;31mUFuncTypeError\u001b[0m                            Traceback (most recent call last)",
      "\u001b[1;32m<ipython-input-22-c78889ed9a85>\u001b[0m in \u001b[0;36m<module>\u001b[1;34m\u001b[0m\n\u001b[0;32m      1\u001b[0m \u001b[1;31m# 3\u001b[0m\u001b[1;33m\u001b[0m\u001b[1;33m\u001b[0m\u001b[1;33m\u001b[0m\u001b[0m\n\u001b[1;32m----> 2\u001b[1;33m \u001b[0marr_height_m\u001b[0m \u001b[1;33m=\u001b[0m \u001b[0marr_height\u001b[0m \u001b[1;33m*\u001b[0m \u001b[1;36m0.0254\u001b[0m\u001b[1;33m\u001b[0m\u001b[1;33m\u001b[0m\u001b[0m\n\u001b[0m\u001b[0;32m      3\u001b[0m \u001b[0mprint\u001b[0m\u001b[1;33m(\u001b[0m\u001b[0marr_height_m\u001b[0m\u001b[1;33m)\u001b[0m\u001b[1;33m\u001b[0m\u001b[1;33m\u001b[0m\u001b[0m\n\u001b[0;32m      4\u001b[0m \u001b[1;31m# 4\u001b[0m\u001b[1;33m\u001b[0m\u001b[1;33m\u001b[0m\u001b[1;33m\u001b[0m\u001b[0m\n\u001b[0;32m      5\u001b[0m \u001b[0marr_weight_kg\u001b[0m \u001b[1;33m=\u001b[0m \u001b[0marr_weight\u001b[0m \u001b[1;33m*\u001b[0m \u001b[1;36m0.453592\u001b[0m\u001b[1;33m\u001b[0m\u001b[1;33m\u001b[0m\u001b[0m\n",
      "\u001b[1;31mUFuncTypeError\u001b[0m: ufunc 'multiply' did not contain a loop with signature matching types (dtype('<U4072'), dtype('<U4072')) -> dtype('<U4072')"
     ]
    }
   ],
   "source": [
    "# 3 \n",
    "arr_height_m = arr_height * 0.0254\n",
    "print(arr_height_m)\n",
    "# 4\n",
    "arr_weight_kg = arr_weight * 0.453592\n",
    "print(arr_weight_kg)"
   ]
  },
  {
   "cell_type": "code",
   "execution_count": 7,
   "metadata": {},
   "outputs": [
    {
     "name": "stdout",
     "output_type": "stream",
     "text": [
      "[23.11037639 27.60406069 28.48080465 ... 25.62295933 23.74810865\n",
      " 25.72686361]\n"
     ]
    }
   ],
   "source": [
    "# 5\n",
    "arr_bmi = arr_weight_kg/(arr_height_m * arr_height_m)\n",
    "print(arr_bmi)"
   ]
  },
  {
   "cell_type": "code",
   "execution_count": 9,
   "metadata": {},
   "outputs": [
    {
     "name": "stdout",
     "output_type": "stream",
     "text": [
      "giá trị cân nặng ở index 50: 88.45044\n"
     ]
    }
   ],
   "source": [
    "# 6\n",
    "print('giá trị cân nặng ở index 50:',arr_weight_kg[50])"
   ]
  },
  {
   "cell_type": "code",
   "execution_count": 14,
   "metadata": {},
   "outputs": [
    {
     "name": "stdout",
     "output_type": "stream",
     "text": [
      "[1.8542 1.8288 1.8796 1.8542 1.8796 1.8288 1.8542 1.7526 1.8288 1.8542]\n"
     ]
    }
   ],
   "source": [
    "# 7\n",
    "arr_height_m_100 = np.array(arr_height_m[100:110])\n",
    "print(arr_height_m_100)"
   ]
  },
  {
   "cell_type": "code",
   "execution_count": 15,
   "metadata": {},
   "outputs": [
    {
     "name": "stdout",
     "output_type": "stream",
     "text": [
      "Các cầu thủ có BMI < 21: [20.54255679 20.54255679 20.69282047 20.69282047 20.34343189 20.34343189\n",
      " 20.69282047 20.15883472 19.4984471  20.69282047 20.9205219 ]\n"
     ]
    }
   ],
   "source": [
    "# 8\n",
    "bmi_less_than_21 = arr_bmi[arr_bmi < 21]\n",
    "print('Các cầu thủ có BMI < 21:',bmi_less_than_21)"
   ]
  },
  {
   "cell_type": "code",
   "execution_count": 16,
   "metadata": {},
   "outputs": [
    {
     "name": "stdout",
     "output_type": "stream",
     "text": [
      "Chiều cao trung bình: 1.8719529525653436\n",
      "Cân nặng trung bình: 91.48463237173281\n"
     ]
    }
   ],
   "source": [
    "# 9\n",
    "average_height = np.mean(arr_height_m)\n",
    "average_weight = np.mean(arr_weight_kg)\n",
    "print('Chiều cao trung bình:',average_height)\n",
    "print('Cân nặng trung bình:',average_weight)"
   ]
  },
  {
   "cell_type": "code",
   "execution_count": 18,
   "metadata": {},
   "outputs": [
    {
     "name": "stdout",
     "output_type": "stream",
     "text": [
      "chiều cao lớn nhất: 2.1082\n",
      "cân nặng lớn nhất: 131.54167999999999\n"
     ]
    }
   ],
   "source": [
    "# 10\n",
    "max_height = np.max(arr_height_m)\n",
    "max_weight = np.max(arr_weight_kg)\n",
    "print('chiều cao lớn nhất:',max_height)\n",
    "print('cân nặng lớn nhất:',max_weight)\n"
   ]
  },
  {
   "cell_type": "code",
   "execution_count": 19,
   "metadata": {},
   "outputs": [
    {
     "name": "stdout",
     "output_type": "stream",
     "text": [
      "chiều cao nhỏ nhất: 1.7018\n",
      "cân nặng nhỏ nhất 68.0388\n"
     ]
    }
   ],
   "source": [
    "# 11\n",
    "min_height = np.min(arr_height_m)\n",
    "min_weight = np.min(arr_weight_kg)\n",
    "print('chiều cao nhỏ nhất:',min_height)\n",
    "print('cân nặng nhỏ nhất',min_weight)"
   ]
  }
 ],
 "metadata": {
  "kernelspec": {
   "display_name": "Python 3.6.8rc1 64-bit",
   "language": "python",
   "name": "python3"
  },
  "language_info": {
   "codemirror_mode": {
    "name": "ipython",
    "version": 3
   },
   "file_extension": ".py",
   "mimetype": "text/x-python",
   "name": "python",
   "nbconvert_exporter": "python",
   "pygments_lexer": "ipython3",
   "version": "3.6.8rc1"
  },
  "orig_nbformat": 4,
  "vscode": {
   "interpreter": {
    "hash": "78d7b6fb6b77b2bee0554797a3d30a2dc1f4881c74cfcbb78b805aff5a203095"
   }
  }
 },
 "nbformat": 4,
 "nbformat_minor": 2
}
